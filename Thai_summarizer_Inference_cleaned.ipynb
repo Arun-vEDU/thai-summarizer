{
 "cells": [
  {
   "cell_type": "code",
   "execution_count": null,
   "metadata": {
    "colab": {
     "base_uri": "https://localhost:8080/",
     "height": 400,
     "referenced_widgets": [
      "38c5b2e785c941acab47a5fad1cb3700",
      "bc99bcc4c5bd471786d41a699f894fa5",
      "8f501de8904747baa345580cf65668c6",
      "42cb6c4e505d462da0f6a3d84e9106e0",
      "3524d05736c84bcea03bfe9e68cc75b2",
      "15bd09feb3d548b0ba428dd026b771ff",
      "45588a43a5764ae3a2fac1faf30f15c1",
      "671fe33f0ab844a797cc8f6f8b00140f",
      "0fed8104e9f3479592a5c277c3f4b954",
      "9771482d05d944398367184f3125c504",
      "78dd4b22bc8c4980ae06ebc801fca9b1",
      "d6b9e50e9c0c46a6a09d8387032275bb",
      "8769534c441b4048994d1ca23df0879e",
      "c7a91492200641919a85e96ebd959b20",
      "a9576c881b064dacbfd8e7e3dbdc0e7f",
      "48642f21e323439cac2626fd3a505997",
      "970427075b794e43b47f909940c1fc13",
      "275b232a1db742638f1660719b46ba03",
      "2721d85608c64e1da945fac4acb3fa0e",
      "2655f973993e47f5bf30592449731791",
      "c03f73cf02e1479d860a5a2c3f193c63",
      "0ee5ad07ecfd4f1d96b96b394837af07",
      "bf3c6c0b453e4aa086841f2ebd2adcda",
      "eecde8eb323b4625b146877b4ea874f0",
      "f561e49b241d4056b6ba60dfa1d81920",
      "c692b96f1d0c4be883315d981397d848",
      "909f20cc8a5842408861ce8b7779d5fd",
      "2f6e3252729d47fabc7c7134e37bd9cc",
      "73b7203f011d40389fff43cf13a9f17b",
      "a8778cf6f56748c0ad18f5fd430e934b",
      "7759a6e6aa224c6ea7eda4c5e3c74248",
      "4eee346416a04713b24958b79e6c6ad8",
      "20ecfe0bd0b74b1e9f5e3b4e0f0c4ea8",
      "a7e3ee025be5476f93b5661f87761779",
      "4e8671794dc9483c850b00e84a15e68d",
      "a71308972080418cb35fd7220cd25392",
      "d0dfb0ce4e4a404697ce3343e16f17a5",
      "51f42d4774414d6b8439f1dcc52f945a",
      "dd52e8183aee40a298b33e1557f51030",
      "c4fdc47aed0d41ae83d3ca8a8c5a63ab",
      "ba16cd43a73843a5bd91faccf6cf3bed",
      "a00fa69cc305493c89fa3ecf56b4abd1",
      "3c14bbc66d4a44bd874daa351ba98228",
      "7c597cad84b541ae8cf3174f8286da6a",
      "50f3078756fa409c8fcf7ce064f51fc5",
      "fa42a4e2ac1d496186bcf4758526ced3",
      "b4e463a9409744c0bb628b59871be02c",
      "3ca66b59661741e68f25139727a6fc73",
      "0a6b93be456f4e0aacb2e06c5bc9286f",
      "96a90a2d04d345de875df7ed990e6adf",
      "590c35c50c2e4308b35f7b67c76b6c44",
      "8846b1b68be945b185da6fec0d87ba4f",
      "4183bdd9bc764634b85c03025d693970",
      "630550dab9af4515b60047eb1d41f271",
      "8b448466fabe4073bfe8521800ecc0ad",
      "fd5ac63eac1947bd9894556cce51ff11",
      "892231aa88dc4dc88c9fe97fa8f9333e",
      "8c7dbf248fef437d90c11a60ccd8a99c",
      "832bb5a0d3de4224811bd435b1771797",
      "537d2560e146484fadb7b865d59353ef",
      "3283e06e526d4ec3a444a070c722784c",
      "b5739179c0f04f0d854acfbe42a6652d",
      "89ed9123bff64e47a1caf07dea06da86",
      "4336f7473677414ca9f4227090964690",
      "c6c866c71c1c4b42a49c5f28aefa291d",
      "8ad78b8f7bfd4655bf30e9c6593e81dc",
      "5094bdfafb344df99806493ecaff1083",
      "51281a003d0f467ba95b13e7ad29ce56",
      "589e57543f9440a98894ac267f86f181",
      "adb4471d371e42a19566694a13da814f",
      "8ad83830b6d6465f85e11a5caf2e0add",
      "39e8efd13af64a70a2211b6cb9702652",
      "7a7126fa374a40628031cafbc0e6c7f6",
      "5ba76a2534a54b7cb3e55b6c4ce620b4",
      "c9904b6855f146e78c13083c28d8ef87",
      "c98a16cd8a8143b6aaa5d01ab7673cda",
      "66b981cd52bb444ba40ae8491a675bcd"
     ]
    },
    "id": "CdZROY-FuWOX",
    "outputId": "5953cca5-be60-459f-9da2-99735bf54c17"
   },
   "outputs": [
    {
     "name": "stderr",
     "output_type": "stream",
     "text": [
      "/usr/local/lib/python3.11/dist-packages/huggingface_hub/utils/_auth.py:94: UserWarning: \n",
      "The secret `HF_TOKEN` does not exist in your Colab secrets.\n",
      "To authenticate with the Hugging Face Hub, create a token in your settings tab (https://huggingface.co/settings/tokens), set it as secret in your Google Colab and restart your session.\n",
      "You will be able to reuse this secret in all of your notebooks.\n",
      "Please note that authentication is recommended but still optional to access public models or datasets.\n",
      "  warnings.warn(\n"
     ]
    },
    {
     "data": {
      "application/vnd.jupyter.widget-view+json": {
       "model_id": "38c5b2e785c941acab47a5fad1cb3700",
       "version_major": 2,
       "version_minor": 0
      },
      "text/plain": [
       "tokenizer_config.json:   0%|          | 0.00/19.3k [00:00<?, ?B/s]"
      ]
     },
     "metadata": {},
     "output_type": "display_data"
    },
    {
     "data": {
      "application/vnd.jupyter.widget-view+json": {
       "model_id": "d6b9e50e9c0c46a6a09d8387032275bb",
       "version_major": 2,
       "version_minor": 0
      },
      "text/plain": [
       "spiece.model:   0%|          | 0.00/4.31M [00:00<?, ?B/s]"
      ]
     },
     "metadata": {},
     "output_type": "display_data"
    },
    {
     "data": {
      "application/vnd.jupyter.widget-view+json": {
       "model_id": "bf3c6c0b453e4aa086841f2ebd2adcda",
       "version_major": 2,
       "version_minor": 0
      },
      "text/plain": [
       "tokenizer.json:   0%|          | 0.00/16.4M [00:00<?, ?B/s]"
      ]
     },
     "metadata": {},
     "output_type": "display_data"
    },
    {
     "data": {
      "application/vnd.jupyter.widget-view+json": {
       "model_id": "a7e3ee025be5476f93b5661f87761779",
       "version_major": 2,
       "version_minor": 0
      },
      "text/plain": [
       "special_tokens_map.json:   0%|          | 0.00/416 [00:00<?, ?B/s]"
      ]
     },
     "metadata": {},
     "output_type": "display_data"
    },
    {
     "data": {
      "application/vnd.jupyter.widget-view+json": {
       "model_id": "50f3078756fa409c8fcf7ce064f51fc5",
       "version_major": 2,
       "version_minor": 0
      },
      "text/plain": [
       "config.json:   0%|          | 0.00/890 [00:00<?, ?B/s]"
      ]
     },
     "metadata": {},
     "output_type": "display_data"
    },
    {
     "data": {
      "application/vnd.jupyter.widget-view+json": {
       "model_id": "fd5ac63eac1947bd9894556cce51ff11",
       "version_major": 2,
       "version_minor": 0
      },
      "text/plain": [
       "model.safetensors:   0%|          | 0.00/2.33G [00:00<?, ?B/s]"
      ]
     },
     "metadata": {},
     "output_type": "display_data"
    },
    {
     "data": {
      "application/vnd.jupyter.widget-view+json": {
       "model_id": "5094bdfafb344df99806493ecaff1083",
       "version_major": 2,
       "version_minor": 0
      },
      "text/plain": [
       "generation_config.json:   0%|          | 0.00/234 [00:00<?, ?B/s]"
      ]
     },
     "metadata": {},
     "output_type": "display_data"
    },
    {
     "name": "stdout",
     "output_type": "stream",
     "text": [
      "📄 Summary:\n",
      " สศท.สปท. ขอเชิญคณะทํางานฯ เข้าร่วมประชุมเพื่อเตรียมการจัดงานสัปดาห์วิชาการ สปท ประจําปีงบประมาณ พ.ศ. 2565 ในหัวข้อ “นวัตกรรมเพื่อความมั่นคง และความปลอดภัยสาธารณะ” ระหว่างวันที่ 4-5 มิ.ย. 67 เวลา  09 ณ ห้อง 432 ชั้น 3 อาคารอเนกประสงค์ สปชร. โดยมี พล.ท\n"
     ]
    }
   ],
   "source": [
    "from transformers import AutoModelForSeq2SeqLM, AutoTokenizer\n",
    "import torch\n",
    "\n",
    "# Load model and tokenizer\n",
    "model_name = \"arunyasenadeera/mT5-thai-summarization-finetuned-v4\"\n",
    "tokenizer = AutoTokenizer.from_pretrained(model_name)\n",
    "model = AutoModelForSeq2SeqLM.from_pretrained(model_name)\n",
    "\n",
    "# Use GPU if available\n",
    "device = \"cuda\" if torch.cuda.is_available() else \"cpu\"\n",
    "model = model.to(device)\n",
    "\n",
    "# Strong summarization function (no post-fix)\n",
    "def strong_summarize(text, max_input_length=512, max_output_length=700):\n",
    "    instruction = (\n",
    "        \"โปรดสรุปข้อความต่อไปนี้อย่างกระชับและชัดเจน \"\n",
    "        \"รักษาข้อมูลสำคัญให้ครบถ้วน เช่น ชื่อบุคคล ตำแหน่ง หน่วยงาน สถานที่ วันเดือนปี \"\n",
    "        \"ห้ามเปลี่ยนแปลงข้อเท็จจริง ห้ามเพิ่มเนื้อหาใหม่ และห้ามตัดข้อมูลสำคัญ \"\n",
    "        \"ห้ามละข้อมูลที่เกี่ยวกับการประชุม การเตรียมการ และภารกิจสนับสนุนที่สำคัญ \"\n",
    "        \"ใช้ภาษาทางการที่เหมาะสมสำหรับรายงานราชการ.\"\n",
    "    )\n",
    "\n",
    "    input_text = instruction + \"\\n\\n\" + text\n",
    "\n",
    "    inputs = tokenizer(\n",
    "        input_text,\n",
    "        return_tensors=\"pt\",\n",
    "        truncation=True,\n",
    "        max_length=max_input_length,\n",
    "        padding=\"longest\"\n",
    "    ).to(device)\n",
    "\n",
    "    with torch.no_grad():\n",
    "        summary_ids = model.generate(\n",
    "            inputs[\"input_ids\"],\n",
    "            max_length=max_output_length,\n",
    "            num_beams=5,\n",
    "            no_repeat_ngram_size=2,\n",
    "            early_stopping=True\n",
    "        )\n",
    "\n",
    "    summary = tokenizer.decode(summary_ids[0], skip_special_tokens=True)\n",
    "    return summary\n",
    "\n",
    "# Example usage:\n",
    "your_text = \"\"\"\n",
    "สศท.สปท. กําหนดจัดงานสัปดาห์วิชาการ สปท. ประจําปีงบประมาณ พ.ศ. 2567 ในหัวข้อ “นวัตกรรมเพื่อความมั่นคง และความปลอดภัยสาธารณะ” ระหว่างวันที่ 4-5 มิ.ย. 67 ณ สปท. โดยมีวัตถุประสงค์ เพื่อเผยแพร่นวัตกรรมเพื่อความมั่นคง และเสริมสร้างภาพลักษณ์ที่ดีของกองทัพและหน่วยงานที่เกี่ยวข้อง รวมทั้งส่งเสริมความร่วมมือและความสัมพันธ์อันดีระหว่างหน่วยงานทั้งภายใน กห. และภายนอก กห. ซึ่งมีผู้เข้าชมงาน ประกอบด้วย กําลังพล สปท. ผู้เข้ารับการอบรมหลักสูตรในความรับผิดชอบของ สปท. นักเรียนทหาร คณาจารย์ นิสิตนักศึกษาของสถาบันการศึกษาที่มีความร่วมมือทางวิชาการระหว่างกันและบุคคลทั่วไป\n",
    "เพื่อให้การดําเนินงานฯเป็นไปด้วยความเรียบร้อย สศท.สปท. จึงขอเชิญ คณะทํางานฯ เข้าร่วมประชุมเพื่อเตรียมการจัดงานฯ ในวันที่ 7 พ.ค. 67 เวลา 0900 ณ ห้อง 432 ชั้น 3 อาคารอเนกประสงค์ สปท. โดยมี พล.ท. สมยศ ฉันทวรลักษณ์ เสธ.สปท. เป็นประธานการประชุมฯ รายละเอียดตาม QR Code ด้านล่าง ทั้งนี้ ได้มอบหมายให้ ร.ท. ชัชรินทร์ เลิศยศบดินทร์ ประจําแผนกแผน และโครงการ กศษ.สศท.สปท. โทรศัพท์เคลื่อนที่ 08 2342 4267 เป็นผู้ประสานรายละเอียดการปฏิบัติ\n",
    "\"\"\"\n",
    "\n",
    "summary = strong_summarize(your_text)\n",
    "print(\"📄 Summary:\\n\", summary)"
   ]
  }
 ],
 "metadata": {
  "colab": {
   "provenance": []
  },
  "kernelspec": {
   "display_name": "Python 3",
   "name": "python3"
  },
  "language_info": {
   "name": "python"
  }
 },
 "nbformat": 4,
 "nbformat_minor": 0
}
